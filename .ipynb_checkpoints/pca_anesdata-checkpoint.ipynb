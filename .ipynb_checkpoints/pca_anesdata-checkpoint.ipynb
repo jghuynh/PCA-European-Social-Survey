{
 "cells": [
  {
   "cell_type": "markdown",
   "metadata": {},
   "source": [
    "# Implement PCA with scikit-learn"
   ]
  },
  {
   "cell_type": "code",
   "execution_count": 3,
   "metadata": {},
   "outputs": [],
   "source": [
    "### Packages\n",
    "import pandas as pd\n",
    "import numpy as np"
   ]
  },
  {
   "cell_type": "code",
   "execution_count": 4,
   "metadata": {},
   "outputs": [],
   "source": [
    "a = pd.read_csv(\"anes_ft.csv\")"
   ]
  },
  {
   "cell_type": "code",
   "execution_count": 5,
   "metadata": {},
   "outputs": [
    {
     "data": {
      "text/plain": [
       "ft_lab         20157\n",
       "ft_business    25177\n",
       "ft_demparty    24727\n",
       "ft_repparty    24777\n",
       "ft_dems        46103\n",
       "ft_reps        46143\n",
       "ft_libs        18864\n",
       "ft_cons        18656\n",
       "ft_mil         29965\n",
       "ft_police      44325\n",
       "dtype: int64"
      ]
     },
     "execution_count": 5,
     "metadata": {},
     "output_type": "execute_result"
    }
   ],
   "source": [
    "## Check missing\n",
    "a.isnull().sum()\n"
   ]
  },
  {
   "cell_type": "code",
   "execution_count": 6,
   "metadata": {},
   "outputs": [],
   "source": [
    "## Keep select columns\n",
    "a2 = a[[\"ft_lab\", \"ft_business\", \"ft_demparty\", \"ft_repparty\", \"ft_libs\", \"ft_cons\", \"ft_police\"]]"
   ]
  },
  {
   "cell_type": "code",
   "execution_count": 7,
   "metadata": {},
   "outputs": [],
   "source": [
    "# Drop missing\n",
    "a2 = a2.dropna()"
   ]
  },
  {
   "cell_type": "code",
   "execution_count": 8,
   "metadata": {},
   "outputs": [],
   "source": [
    "## Standardize\n",
    "from sklearn.preprocessing import StandardScaler\n",
    "\n",
    "s = StandardScaler()"
   ]
  },
  {
   "cell_type": "code",
   "execution_count": 9,
   "metadata": {},
   "outputs": [],
   "source": [
    "a2_std = pd.DataFrame(s.fit_transform(a2),\n",
    "                  columns=a2.columns)"
   ]
  },
  {
   "cell_type": "code",
   "execution_count": 10,
   "metadata": {},
   "outputs": [
    {
     "data": {
      "image/png": "[encoded data removed]",
      "text/plain": [
       "<Figure size 432x288 with 1 Axes>"
      ]
     },
     "metadata": {
      "needs_background": "light"
     },
     "output_type": "display_data"
    }
   ],
   "source": [
    "## Visualize data: labor unions\n",
    "a2_std[\"ft_lab\"].hist();"
   ]
  },
  {
   "cell_type": "code",
   "execution_count": 11,
   "metadata": {},
   "outputs": [
    {
     "data": {
      "image/png": "[encoded data removed]",
      "text/plain": [
       "<Figure size 432x288 with 1 Axes>"
      ]
     },
     "metadata": {
      "needs_background": "light"
     },
     "output_type": "display_data"
    }
   ],
   "source": [
    "## Visualize data: big business\n",
    "a2_std[\"ft_business\"].hist();"
   ]
  },
  {
   "cell_type": "markdown",
   "metadata": {},
   "source": [
    "## PCA"
   ]
  },
  {
   "cell_type": "code",
   "execution_count": 12,
   "metadata": {},
   "outputs": [],
   "source": [
    "## Import PCA from sklearn\n",
    "from sklearn.decomposition import PCA"
   ]
  },
  {
   "cell_type": "code",
   "execution_count": 13,
   "metadata": {},
   "outputs": [],
   "source": [
    "## Instantiate model object\n",
    "pca = PCA(n_components=3)"
   ]
  },
  {
   "cell_type": "code",
   "execution_count": 14,
   "metadata": {},
   "outputs": [],
   "source": [
    "## Fit model\n",
    "mod = pca.fit(a2_std)"
   ]
  },
  {
   "cell_type": "code",
   "execution_count": 15,
   "metadata": {},
   "outputs": [
    {
     "data": {
      "text/html": [
       "<style type=\"text/css\">\n",
       "#T_dda63_row0_col0 {\n",
       "  background-color: #0000c8;\n",
       "  color: #f1f1f1;\n",
       "}\n",
       "#T_dda63_row0_col1 {\n",
       "  background-color: #00005d;\n",
       "  color: #f1f1f1;\n",
       "}\n",
       "#T_dda63_row0_col2 {\n",
       "  background-color: #6969ff;\n",
       "  color: #f1f1f1;\n",
       "}\n",
       "#T_dda63_row1_col0 {\n",
       "  background-color: #ec0000;\n",
       "  color: #f1f1f1;\n",
       "}\n",
       "#T_dda63_row1_col1, #T_dda63_row4_col0, #T_dda63_row6_col2 {\n",
       "  background-color: #00004c;\n",
       "  color: #f1f1f1;\n",
       "}\n",
       "#T_dda63_row1_col2, #T_dda63_row3_col1, #T_dda63_row5_col0 {\n",
       "  background-color: #800000;\n",
       "  color: #f1f1f1;\n",
       "}\n",
       "#T_dda63_row2_col0 {\n",
       "  background-color: #00004f;\n",
       "  color: #f1f1f1;\n",
       "}\n",
       "#T_dda63_row2_col1 {\n",
       "  background-color: #ffdddd;\n",
       "  color: #000000;\n",
       "}\n",
       "#T_dda63_row2_col2 {\n",
       "  background-color: #ff0d0d;\n",
       "  color: #f1f1f1;\n",
       "}\n",
       "#T_dda63_row3_col0 {\n",
       "  background-color: #880000;\n",
       "  color: #f1f1f1;\n",
       "}\n",
       "#T_dda63_row3_col2 {\n",
       "  background-color: #ff6565;\n",
       "  color: #f1f1f1;\n",
       "}\n",
       "#T_dda63_row4_col1 {\n",
       "  background-color: #8989ff;\n",
       "  color: #f1f1f1;\n",
       "}\n",
       "#T_dda63_row4_col2 {\n",
       "  background-color: #ffc9c9;\n",
       "  color: #000000;\n",
       "}\n",
       "#T_dda63_row5_col1 {\n",
       "  background-color: #ff4d4d;\n",
       "  color: #f1f1f1;\n",
       "}\n",
       "#T_dda63_row5_col2 {\n",
       "  background-color: #ffb1b1;\n",
       "  color: #000000;\n",
       "}\n",
       "#T_dda63_row6_col0 {\n",
       "  background-color: #e60000;\n",
       "  color: #f1f1f1;\n",
       "}\n",
       "#T_dda63_row6_col1 {\n",
       "  background-color: #0000ec;\n",
       "  color: #f1f1f1;\n",
       "}\n",
       "</style>\n",
       "<table id=\"T_dda63_\">\n",
       "  <thead>\n",
       "    <tr>\n",
       "      <th class=\"blank level0\" >&nbsp;</th>\n",
       "      <th class=\"col_heading level0 col0\" >0</th>\n",
       "      <th class=\"col_heading level0 col1\" >1</th>\n",
       "      <th class=\"col_heading level0 col2\" >2</th>\n",
       "    </tr>\n",
       "  </thead>\n",
       "  <tbody>\n",
       "    <tr>\n",
       "      <th id=\"T_dda63_level0_row0\" class=\"row_heading level0 row0\" >ft_lab</th>\n",
       "      <td id=\"T_dda63_row0_col0\" class=\"data row0 col0\" >-0.278183</td>\n",
       "      <td id=\"T_dda63_row0_col1\" class=\"data row0 col1\" >-0.499243</td>\n",
       "      <td id=\"T_dda63_row0_col2\" class=\"data row0 col2\" >-0.241381</td>\n",
       "    </tr>\n",
       "    <tr>\n",
       "      <th id=\"T_dda63_level0_row1\" class=\"row_heading level0 row1\" >ft_business</th>\n",
       "      <td id=\"T_dda63_row1_col0\" class=\"data row1 col0\" >0.267445</td>\n",
       "      <td id=\"T_dda63_row1_col1\" class=\"data row1 col1\" >-0.508353</td>\n",
       "      <td id=\"T_dda63_row1_col2\" class=\"data row1 col2\" >0.597860</td>\n",
       "    </tr>\n",
       "    <tr>\n",
       "      <th id=\"T_dda63_level0_row2\" class=\"row_heading level0 row2\" >ft_demparty</th>\n",
       "      <td id=\"T_dda63_row2_col0\" class=\"data row2 col0\" >-0.429750</td>\n",
       "      <td id=\"T_dda63_row2_col1\" class=\"data row2 col1\" >-0.309050</td>\n",
       "      <td id=\"T_dda63_row2_col2\" class=\"data row2 col2\" >0.256049</td>\n",
       "    </tr>\n",
       "    <tr>\n",
       "      <th id=\"T_dda63_level0_row3\" class=\"row_heading level0 row3\" >ft_repparty</th>\n",
       "      <td id=\"T_dda63_row3_col0\" class=\"data row3 col0\" >0.438866</td>\n",
       "      <td id=\"T_dda63_row3_col1\" class=\"data row3 col1\" >-0.135304</td>\n",
       "      <td id=\"T_dda63_row3_col2\" class=\"data row3 col2\" >0.145069</td>\n",
       "    </tr>\n",
       "    <tr>\n",
       "      <th id=\"T_dda63_level0_row4\" class=\"row_heading level0 row4\" >ft_libs</th>\n",
       "      <td id=\"T_dda63_row4_col0\" class=\"data row4 col0\" >-0.434750</td>\n",
       "      <td id=\"T_dda63_row4_col1\" class=\"data row4 col1\" >-0.364237</td>\n",
       "      <td id=\"T_dda63_row4_col2\" class=\"data row4 col2\" >0.013466</td>\n",
       "    </tr>\n",
       "    <tr>\n",
       "      <th id=\"T_dda63_level0_row5\" class=\"row_heading level0 row5\" >ft_cons</th>\n",
       "      <td id=\"T_dda63_row5_col0\" class=\"data row5 col0\" >0.456068</td>\n",
       "      <td id=\"T_dda63_row5_col1\" class=\"data row5 col1\" >-0.256985</td>\n",
       "      <td id=\"T_dda63_row5_col2\" class=\"data row5 col2\" >0.044419</td>\n",
       "    </tr>\n",
       "    <tr>\n",
       "      <th id=\"T_dda63_level0_row6\" class=\"row_heading level0 row6\" >ft_police</th>\n",
       "      <td id=\"T_dda63_row6_col0\" class=\"data row6 col0\" >0.277117</td>\n",
       "      <td id=\"T_dda63_row6_col1\" class=\"data row6 col1\" >-0.424035</td>\n",
       "      <td id=\"T_dda63_row6_col2\" class=\"data row6 col2\" >-0.703944</td>\n",
       "    </tr>\n",
       "  </tbody>\n",
       "</table>\n"
      ],
      "text/plain": [
       "<pandas.io.formats.style.Styler at 0x1ed6ab7dd30>"
      ]
     },
     "execution_count": 15,
     "metadata": {},
     "output_type": "execute_result"
    }
   ],
   "source": [
    "# Get loadings with items\n",
    "pd.DataFrame(mod.components_.T,\n",
    "            index=a2_std.columns).style.background_gradient(cmap='seismic')"
   ]
  },
  {
   "cell_type": "code",
   "execution_count": 16,
   "metadata": {},
   "outputs": [
    {
     "data": {
      "text/html": [
       "<div>\n",
       "<style scoped>\n",
       "    .dataframe tbody tr th:only-of-type {\n",
       "        vertical-align: middle;\n",
       "    }\n",
       "\n",
       "    .dataframe tbody tr th {\n",
       "        vertical-align: top;\n",
       "    }\n",
       "\n",
       "    .dataframe thead th {\n",
       "        text-align: right;\n",
       "    }\n",
       "</style>\n",
       "<table border=\"1\" class=\"dataframe\">\n",
       "  <thead>\n",
       "    <tr style=\"text-align: right;\">\n",
       "      <th></th>\n",
       "      <th>PC1</th>\n",
       "      <th>PC2</th>\n",
       "      <th>PC3</th>\n",
       "    </tr>\n",
       "  </thead>\n",
       "  <tbody>\n",
       "    <tr>\n",
       "      <th>0</th>\n",
       "      <td>40.0</td>\n",
       "      <td>20.0</td>\n",
       "      <td>11.0</td>\n",
       "    </tr>\n",
       "  </tbody>\n",
       "</table>\n",
       "</div>"
      ],
      "text/plain": [
       "    PC1   PC2   PC3\n",
       "0  40.0  20.0  11.0"
      ]
     },
     "execution_count": 16,
     "metadata": {},
     "output_type": "execute_result"
    }
   ],
   "source": [
    "## Get % of variance explained by each component\n",
    "pd.DataFrame(np.round(mod.explained_variance_ratio_, 2)*100,\n",
    "            index=[\"PC1\", \"PC2\", \"PC3\"]).T"
   ]
  },
  {
   "cell_type": "code",
   "execution_count": 17,
   "metadata": {},
   "outputs": [
    {
     "data": {
      "text/plain": [
       "0    71.0\n",
       "dtype: float64"
      ]
     },
     "execution_count": 17,
     "metadata": {},
     "output_type": "execute_result"
    }
   ],
   "source": [
    "## Get cumulative variance explained by 3 components\n",
    "pd.DataFrame(np.round(mod.explained_variance_ratio_, 2)*100,\n",
    "            index=[\"PC1\", \"PC2\", \"PC3\"]).T.sum(axis=1)"
   ]
  },
  {
   "cell_type": "code",
   "execution_count": 18,
   "metadata": {},
   "outputs": [
    {
     "data": {
      "text/html": [
       "<div>\n",
       "<style scoped>\n",
       "    .dataframe tbody tr th:only-of-type {\n",
       "        vertical-align: middle;\n",
       "    }\n",
       "\n",
       "    .dataframe tbody tr th {\n",
       "        vertical-align: top;\n",
       "    }\n",
       "\n",
       "    .dataframe thead th {\n",
       "        text-align: right;\n",
       "    }\n",
       "</style>\n",
       "<table border=\"1\" class=\"dataframe\">\n",
       "  <thead>\n",
       "    <tr style=\"text-align: right;\">\n",
       "      <th></th>\n",
       "      <th>Partisanship leaning-D-R</th>\n",
       "      <th>Independent-Libertarian</th>\n",
       "      <th>Free-Market-Institutionalist</th>\n",
       "    </tr>\n",
       "  </thead>\n",
       "  <tbody>\n",
       "    <tr>\n",
       "      <th>ft_lab</th>\n",
       "      <td>-0.278183</td>\n",
       "      <td>-0.499243</td>\n",
       "      <td>-0.241381</td>\n",
       "    </tr>\n",
       "    <tr>\n",
       "      <th>ft_business</th>\n",
       "      <td>0.267445</td>\n",
       "      <td>-0.508353</td>\n",
       "      <td>0.597860</td>\n",
       "    </tr>\n",
       "    <tr>\n",
       "      <th>ft_demparty</th>\n",
       "      <td>-0.429750</td>\n",
       "      <td>-0.309050</td>\n",
       "      <td>0.256049</td>\n",
       "    </tr>\n",
       "    <tr>\n",
       "      <th>ft_repparty</th>\n",
       "      <td>0.438866</td>\n",
       "      <td>-0.135304</td>\n",
       "      <td>0.145069</td>\n",
       "    </tr>\n",
       "    <tr>\n",
       "      <th>ft_libs</th>\n",
       "      <td>-0.434750</td>\n",
       "      <td>-0.364237</td>\n",
       "      <td>0.013466</td>\n",
       "    </tr>\n",
       "    <tr>\n",
       "      <th>ft_cons</th>\n",
       "      <td>0.456068</td>\n",
       "      <td>-0.256985</td>\n",
       "      <td>0.044419</td>\n",
       "    </tr>\n",
       "    <tr>\n",
       "      <th>ft_police</th>\n",
       "      <td>0.277117</td>\n",
       "      <td>-0.424035</td>\n",
       "      <td>-0.703944</td>\n",
       "    </tr>\n",
       "  </tbody>\n",
       "</table>\n",
       "</div>"
      ],
      "text/plain": [
       "             Partisanship leaning-D-R  Independent-Libertarian  \\\n",
       "ft_lab                      -0.278183                -0.499243   \n",
       "ft_business                  0.267445                -0.508353   \n",
       "ft_demparty                 -0.429750                -0.309050   \n",
       "ft_repparty                  0.438866                -0.135304   \n",
       "ft_libs                     -0.434750                -0.364237   \n",
       "ft_cons                      0.456068                -0.256985   \n",
       "ft_police                    0.277117                -0.424035   \n",
       "\n",
       "             Free-Market-Institutionalist  \n",
       "ft_lab                          -0.241381  \n",
       "ft_business                      0.597860  \n",
       "ft_demparty                      0.256049  \n",
       "ft_repparty                      0.145069  \n",
       "ft_libs                          0.013466  \n",
       "ft_cons                          0.044419  \n",
       "ft_police                       -0.703944  "
      ]
     },
     "execution_count": 18,
     "metadata": {},
     "output_type": "execute_result"
    }
   ],
   "source": [
    "## View PCs and loadings and give PCs sensible labels for interpretation\n",
    "pd.DataFrame(mod.components_.T,\n",
    "            index=a2_std.columns,\n",
    "            columns=[\"Partisanship leaning-D-R\",\n",
    "                    \"Independent-Libertarian\",\n",
    "                    \"Free-Market-Institutionalist\"])"
   ]
  },
  {
   "cell_type": "code",
   "execution_count": 19,
   "metadata": {},
   "outputs": [
    {
     "data": {
      "text/html": [
       "<style type=\"text/css\">\n",
       "#T_b5aa0_row0_col0 {\n",
       "  background-color: #0000c8;\n",
       "  color: #f1f1f1;\n",
       "}\n",
       "#T_b5aa0_row0_col1 {\n",
       "  background-color: #00005d;\n",
       "  color: #f1f1f1;\n",
       "}\n",
       "#T_b5aa0_row0_col2 {\n",
       "  background-color: #6969ff;\n",
       "  color: #f1f1f1;\n",
       "}\n",
       "#T_b5aa0_row1_col0 {\n",
       "  background-color: #ec0000;\n",
       "  color: #f1f1f1;\n",
       "}\n",
       "#T_b5aa0_row1_col1, #T_b5aa0_row4_col0, #T_b5aa0_row6_col2 {\n",
       "  background-color: #00004c;\n",
       "  color: #f1f1f1;\n",
       "}\n",
       "#T_b5aa0_row1_col2, #T_b5aa0_row3_col1, #T_b5aa0_row5_col0 {\n",
       "  background-color: #800000;\n",
       "  color: #f1f1f1;\n",
       "}\n",
       "#T_b5aa0_row2_col0 {\n",
       "  background-color: #00004f;\n",
       "  color: #f1f1f1;\n",
       "}\n",
       "#T_b5aa0_row2_col1 {\n",
       "  background-color: #ffdddd;\n",
       "  color: #000000;\n",
       "}\n",
       "#T_b5aa0_row2_col2 {\n",
       "  background-color: #ff0d0d;\n",
       "  color: #f1f1f1;\n",
       "}\n",
       "#T_b5aa0_row3_col0 {\n",
       "  background-color: #880000;\n",
       "  color: #f1f1f1;\n",
       "}\n",
       "#T_b5aa0_row3_col2 {\n",
       "  background-color: #ff6565;\n",
       "  color: #f1f1f1;\n",
       "}\n",
       "#T_b5aa0_row4_col1 {\n",
       "  background-color: #8989ff;\n",
       "  color: #f1f1f1;\n",
       "}\n",
       "#T_b5aa0_row4_col2 {\n",
       "  background-color: #ffc9c9;\n",
       "  color: #000000;\n",
       "}\n",
       "#T_b5aa0_row5_col1 {\n",
       "  background-color: #ff4d4d;\n",
       "  color: #f1f1f1;\n",
       "}\n",
       "#T_b5aa0_row5_col2 {\n",
       "  background-color: #ffb1b1;\n",
       "  color: #000000;\n",
       "}\n",
       "#T_b5aa0_row6_col0 {\n",
       "  background-color: #e60000;\n",
       "  color: #f1f1f1;\n",
       "}\n",
       "#T_b5aa0_row6_col1 {\n",
       "  background-color: #0000ec;\n",
       "  color: #f1f1f1;\n",
       "}\n",
       "</style>\n",
       "<table id=\"T_b5aa0_\">\n",
       "  <thead>\n",
       "    <tr>\n",
       "      <th class=\"blank level0\" >&nbsp;</th>\n",
       "      <th class=\"col_heading level0 col0\" >Partisanship leaning-D-R</th>\n",
       "      <th class=\"col_heading level0 col1\" >Independent-Libertarian</th>\n",
       "      <th class=\"col_heading level0 col2\" >Free-Market-Institutionalist</th>\n",
       "    </tr>\n",
       "  </thead>\n",
       "  <tbody>\n",
       "    <tr>\n",
       "      <th id=\"T_b5aa0_level0_row0\" class=\"row_heading level0 row0\" >ft_lab</th>\n",
       "      <td id=\"T_b5aa0_row0_col0\" class=\"data row0 col0\" >-0.278183</td>\n",
       "      <td id=\"T_b5aa0_row0_col1\" class=\"data row0 col1\" >-0.499243</td>\n",
       "      <td id=\"T_b5aa0_row0_col2\" class=\"data row0 col2\" >-0.241381</td>\n",
       "    </tr>\n",
       "    <tr>\n",
       "      <th id=\"T_b5aa0_level0_row1\" class=\"row_heading level0 row1\" >ft_business</th>\n",
       "      <td id=\"T_b5aa0_row1_col0\" class=\"data row1 col0\" >0.267445</td>\n",
       "      <td id=\"T_b5aa0_row1_col1\" class=\"data row1 col1\" >-0.508353</td>\n",
       "      <td id=\"T_b5aa0_row1_col2\" class=\"data row1 col2\" >0.597860</td>\n",
       "    </tr>\n",
       "    <tr>\n",
       "      <th id=\"T_b5aa0_level0_row2\" class=\"row_heading level0 row2\" >ft_demparty</th>\n",
       "      <td id=\"T_b5aa0_row2_col0\" class=\"data row2 col0\" >-0.429750</td>\n",
       "      <td id=\"T_b5aa0_row2_col1\" class=\"data row2 col1\" >-0.309050</td>\n",
       "      <td id=\"T_b5aa0_row2_col2\" class=\"data row2 col2\" >0.256049</td>\n",
       "    </tr>\n",
       "    <tr>\n",
       "      <th id=\"T_b5aa0_level0_row3\" class=\"row_heading level0 row3\" >ft_repparty</th>\n",
       "      <td id=\"T_b5aa0_row3_col0\" class=\"data row3 col0\" >0.438866</td>\n",
       "      <td id=\"T_b5aa0_row3_col1\" class=\"data row3 col1\" >-0.135304</td>\n",
       "      <td id=\"T_b5aa0_row3_col2\" class=\"data row3 col2\" >0.145069</td>\n",
       "    </tr>\n",
       "    <tr>\n",
       "      <th id=\"T_b5aa0_level0_row4\" class=\"row_heading level0 row4\" >ft_libs</th>\n",
       "      <td id=\"T_b5aa0_row4_col0\" class=\"data row4 col0\" >-0.434750</td>\n",
       "      <td id=\"T_b5aa0_row4_col1\" class=\"data row4 col1\" >-0.364237</td>\n",
       "      <td id=\"T_b5aa0_row4_col2\" class=\"data row4 col2\" >0.013466</td>\n",
       "    </tr>\n",
       "    <tr>\n",
       "      <th id=\"T_b5aa0_level0_row5\" class=\"row_heading level0 row5\" >ft_cons</th>\n",
       "      <td id=\"T_b5aa0_row5_col0\" class=\"data row5 col0\" >0.456068</td>\n",
       "      <td id=\"T_b5aa0_row5_col1\" class=\"data row5 col1\" >-0.256985</td>\n",
       "      <td id=\"T_b5aa0_row5_col2\" class=\"data row5 col2\" >0.044419</td>\n",
       "    </tr>\n",
       "    <tr>\n",
       "      <th id=\"T_b5aa0_level0_row6\" class=\"row_heading level0 row6\" >ft_police</th>\n",
       "      <td id=\"T_b5aa0_row6_col0\" class=\"data row6 col0\" >0.277117</td>\n",
       "      <td id=\"T_b5aa0_row6_col1\" class=\"data row6 col1\" >-0.424035</td>\n",
       "      <td id=\"T_b5aa0_row6_col2\" class=\"data row6 col2\" >-0.703944</td>\n",
       "    </tr>\n",
       "  </tbody>\n",
       "</table>\n"
      ],
      "text/plain": [
       "<pandas.io.formats.style.Styler at 0x1ed6ccbffa0>"
      ]
     },
     "execution_count": 19,
     "metadata": {},
     "output_type": "execute_result"
    }
   ],
   "source": [
    "## View PCs and loadings and give PCs sensible labels for interpretation, add color for clarity\n",
    "pd.DataFrame(mod.components_.T,\n",
    "            index=a2_std.columns,\n",
    "            columns=[\"Partisanship leaning-D-R\",\n",
    "                    \"Independent-Libertarian\",\n",
    "                    \"Free-Market-Institutionalist\"]).style.background_gradient(cmap='seismic')"
   ]
  },
  {
   "cell_type": "markdown",
   "metadata": {},
   "source": [
    "## Hyperparameter: n_components\n",
    "+ When `n_components` > 1, returns number of components\n",
    "+ When `n_components` between 0 and 1 (*x*) and svg_solver=\"full\", returns number of components needed to explain at least *x* percent of variance"
   ]
  },
  {
   "cell_type": "code",
   "execution_count": 20,
   "metadata": {},
   "outputs": [],
   "source": [
    "## Instantiate model object\n",
    "pca = PCA(n_components=0.85,\n",
    "         svd_solver=\"full\")"
   ]
  },
  {
   "cell_type": "code",
   "execution_count": 21,
   "metadata": {},
   "outputs": [],
   "source": [
    "## Fit model\n",
    "mod = pca.fit(a2)"
   ]
  },
  {
   "cell_type": "code",
   "execution_count": 22,
   "metadata": {},
   "outputs": [
    {
     "data": {
      "text/plain": [
       "array([0.42310118, 0.18732896, 0.10134616, 0.08929524, 0.07783268])"
      ]
     },
     "execution_count": 22,
     "metadata": {},
     "output_type": "execute_result"
    }
   ],
   "source": [
    "mod.explained_variance_ratio_"
   ]
  },
  {
   "cell_type": "code",
   "execution_count": 23,
   "metadata": {},
   "outputs": [
    {
     "data": {
      "text/plain": [
       "0    88.0\n",
       "dtype: float64"
      ]
     },
     "execution_count": 23,
     "metadata": {},
     "output_type": "execute_result"
    }
   ],
   "source": [
    "## Get % of variance explained\n",
    "pd.DataFrame(np.round(mod.explained_variance_ratio_, 2)*100,\n",
    "            index=[\"PC1\", \"PC2\", \"PC3\", \"PC4\", \"PC5\"]).T.sum(axis=1)"
   ]
  },
  {
   "cell_type": "markdown",
   "metadata": {},
   "source": [
    "## Deciding on number of components, scree plot"
   ]
  },
  {
   "cell_type": "code",
   "execution_count": 24,
   "metadata": {},
   "outputs": [],
   "source": [
    "## Build df with number of components and explained variance\n",
    "pc_df = pd.DataFrame(mod.explained_variance_ratio_,\n",
    "                             index=np.arange(pca.n_components_) + 1,\n",
    "                             columns=[\"perc_var\"])"
   ]
  },
  {
   "cell_type": "code",
   "execution_count": 25,
   "metadata": {},
   "outputs": [],
   "source": [
    "## Reset index, rename components (for plotting w/ altair)\n",
    "pc_df = pc_df.reset_index()"
   ]
  },
  {
   "cell_type": "code",
   "execution_count": 26,
   "metadata": {},
   "outputs": [],
   "source": [
    "pc_df = pc_df.rename(columns={\"index\":\"components\"})"
   ]
  },
  {
   "cell_type": "code",
   "execution_count": 31,
   "metadata": {},
   "outputs": [
    {
     "data": {
      "text/html": [
       "<div>\n",
       "<style scoped>\n",
       "    .dataframe tbody tr th:only-of-type {\n",
       "        vertical-align: middle;\n",
       "    }\n",
       "\n",
       "    .dataframe tbody tr th {\n",
       "        vertical-align: top;\n",
       "    }\n",
       "\n",
       "    .dataframe thead th {\n",
       "        text-align: right;\n",
       "    }\n",
       "</style>\n",
       "<table border=\"1\" class=\"dataframe\">\n",
       "  <thead>\n",
       "    <tr style=\"text-align: right;\">\n",
       "      <th></th>\n",
       "      <th>components</th>\n",
       "      <th>perc_var</th>\n",
       "    </tr>\n",
       "  </thead>\n",
       "  <tbody>\n",
       "    <tr>\n",
       "      <th>0</th>\n",
       "      <td>1</td>\n",
       "      <td>0.423101</td>\n",
       "    </tr>\n",
       "    <tr>\n",
       "      <th>1</th>\n",
       "      <td>2</td>\n",
       "      <td>0.187329</td>\n",
       "    </tr>\n",
       "    <tr>\n",
       "      <th>2</th>\n",
       "      <td>3</td>\n",
       "      <td>0.101346</td>\n",
       "    </tr>\n",
       "    <tr>\n",
       "      <th>3</th>\n",
       "      <td>4</td>\n",
       "      <td>0.089295</td>\n",
       "    </tr>\n",
       "    <tr>\n",
       "      <th>4</th>\n",
       "      <td>5</td>\n",
       "      <td>0.077833</td>\n",
       "    </tr>\n",
       "  </tbody>\n",
       "</table>\n",
       "</div>"
      ],
      "text/plain": [
       "   components  perc_var\n",
       "0           1  0.423101\n",
       "1           2  0.187329\n",
       "2           3  0.101346\n",
       "3           4  0.089295\n",
       "4           5  0.077833"
      ]
     },
     "execution_count": 31,
     "metadata": {},
     "output_type": "execute_result"
    }
   ],
   "source": [
    "pc_df.head()"
   ]
  },
  {
   "cell_type": "code",
   "execution_count": 27,
   "metadata": {},
   "outputs": [],
   "source": [
    "## Import altair\n",
    "import altair as alt"
   ]
  },
  {
   "cell_type": "code",
   "execution_count": 28,
   "metadata": {},
   "outputs": [
    {
     "data": {
      "text/html": [
       "\n",
       "<div id=\"altair-viz-c59a2ecd8f874d2293d8981a6ec8fc28\"></div>\n",
       "<script type=\"text/javascript\">\n",
       "  (function(spec, embedOpt){\n",
       "    let outputDiv = document.currentScript.previousElementSibling;\n",
       "    if (outputDiv.id !== \"altair-viz-c59a2ecd8f874d2293d8981a6ec8fc28\") {\n",
       "      outputDiv = document.getElementById(\"altair-viz-c59a2ecd8f874d2293d8981a6ec8fc28\");\n",
       "    }\n",
       "    const paths = {\n",
       "      \"vega\": \"https://cdn.jsdelivr.net/npm//vega@5?noext\",\n",
       "      \"vega-lib\": \"https://cdn.jsdelivr.net/npm//vega-lib?noext\",\n",
       "      \"vega-lite\": \"https://cdn.jsdelivr.net/npm//vega-lite@4.8.1?noext\",\n",
       "      \"vega-embed\": \"https://cdn.jsdelivr.net/npm//vega-embed@6?noext\",\n",
       "    };\n",
       "\n",
       "    function loadScript(lib) {\n",
       "      return new Promise(function(resolve, reject) {\n",
       "        var s = document.createElement('script');\n",
       "        s.src = paths[lib];\n",
       "        s.async = true;\n",
       "        s.onload = () => resolve(paths[lib]);\n",
       "        s.onerror = () => reject(`Error loading script: ${paths[lib]}`);\n",
       "        document.getElementsByTagName(\"head\")[0].appendChild(s);\n",
       "      });\n",
       "    }\n",
       "\n",
       "    function showError(err) {\n",
       "      outputDiv.innerHTML = `<div class=\"error\" style=\"color:red;\">${err}</div>`;\n",
       "      throw err;\n",
       "    }\n",
       "\n",
       "    function displayChart(vegaEmbed) {\n",
       "      vegaEmbed(outputDiv, spec, embedOpt)\n",
       "        .catch(err => showError(`Javascript Error: ${err.message}<br>This usually means there's a typo in your chart specification. See the javascript console for the full traceback.`));\n",
       "    }\n",
       "\n",
       "    if(typeof define === \"function\" && define.amd) {\n",
       "      requirejs.config({paths});\n",
       "      require([\"vega-embed\"], displayChart, err => showError(`Error loading script: ${err.message}`));\n",
       "    } else if (typeof vegaEmbed === \"function\") {\n",
       "      displayChart(vegaEmbed);\n",
       "    } else {\n",
       "      loadScript(\"vega\")\n",
       "        .then(() => loadScript(\"vega-lite\"))\n",
       "        .then(() => loadScript(\"vega-embed\"))\n",
       "        .catch(showError)\n",
       "        .then(() => displayChart(vegaEmbed));\n",
       "    }\n",
       "  })({\"config\": {\"view\": {\"continuousWidth\": 400, \"continuousHeight\": 300}}, \"data\": {\"name\": \"data-b4dfcc1c1504e80fafea6dba51942997\"}, \"mark\": \"line\", \"encoding\": {\"x\": {\"type\": \"quantitative\", \"field\": \"components\"}, \"y\": {\"type\": \"quantitative\", \"field\": \"perc_var\"}}, \"selection\": {\"selector001\": {\"type\": \"interval\", \"bind\": \"scales\", \"encodings\": [\"x\", \"y\"]}}, \"$schema\": \"https://vega.github.io/schema/vega-lite/v4.8.1.json\", \"datasets\": {\"data-b4dfcc1c1504e80fafea6dba51942997\": [{\"components\": 1, \"perc_var\": 0.42310118367448124}, {\"components\": 2, \"perc_var\": 0.18732895738834077}, {\"components\": 3, \"perc_var\": 0.10134616350256653}, {\"components\": 4, \"perc_var\": 0.08929523795269732}, {\"components\": 5, \"perc_var\": 0.07783267675851491}]}}, {\"mode\": \"vega-lite\"});\n",
       "</script>"
      ],
      "text/plain": [
       "alt.Chart(...)"
      ]
     },
     "execution_count": 28,
     "metadata": {},
     "output_type": "execute_result"
    }
   ],
   "source": [
    "## Create scree plot with altair, elbow at 3\n",
    "alt.Chart(pc_df).mark_line().encode(x=\"components\",\n",
    "                                    y=\"perc_var\").interactive()"
   ]
  },
  {
   "cell_type": "code",
   "execution_count": 29,
   "metadata": {},
   "outputs": [],
   "source": [
    "## Same visualization but with seaborn\n",
    "import seaborn as sns"
   ]
  },
  {
   "cell_type": "code",
   "execution_count": 30,
   "metadata": {},
   "outputs": [
    {
     "data": {
      "text/plain": [
       "<AxesSubplot:xlabel='components', ylabel='perc_var'>"
      ]
     },
     "execution_count": 30,
     "metadata": {},
     "output_type": "execute_result"
    },
    {
     "data": {
      "image/png": "[encoded data removed]",
      "text/plain": [
       "<Figure size 432x288 with 1 Axes>"
      ]
     },
     "metadata": {
      "needs_background": "light"
     },
     "output_type": "display_data"
    }
   ],
   "source": [
    "sns.lineplot(x = \"components\",\n",
    "            y = \"perc_var\",\n",
    "            data=pc_df)"
   ]
  },
  {
   "cell_type": "markdown",
   "metadata": {},
   "source": [
    "##### Resources\n",
    "\n",
    "#### scikit-learn for PCA: https://scikit-learn.org/stable/modules/generated/sklearn.decomposition.PCA.html\\\n",
    "#### matplotlib, cmaps (https://matplotlib.org/stable/tutorials/colors/colormaps.html)\n",
    "#### altair: https://altair-viz.github.io/index.html"
   ]
  },
  {
   "cell_type": "code",
   "execution_count": null,
   "metadata": {},
   "outputs": [],
   "source": []
  }
 ],
 "metadata": {
  "kernelspec": {
   "display_name": "Python 3",
   "language": "python",
   "name": "python3"
  },
  "language_info": {
   "codemirror_mode": {
    "name": "ipython",
    "version": 3
   },
   "file_extension": ".py",
   "mimetype": "text/x-python",
   "name": "python",
   "nbconvert_exporter": "python",
   "pygments_lexer": "ipython3",
   "version": "3.8.5"
  }
 },
 "nbformat": 4,
 "nbformat_minor": 4
}
